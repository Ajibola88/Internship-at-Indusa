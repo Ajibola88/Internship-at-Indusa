{
 "cells": [
  {
   "cell_type": "markdown",
   "metadata": {
    "deletable": true,
    "editable": true
   },
   "source": [
    "# Classifcation based on key words"
   ]
  },
  {
   "cell_type": "markdown",
   "metadata": {
    "deletable": true,
    "editable": true
   },
   "source": [
    "all imports"
   ]
  },
  {
   "cell_type": "code",
   "execution_count": 20,
   "metadata": {
    "collapsed": true,
    "deletable": true,
    "editable": true
   },
   "outputs": [],
   "source": [
    "import pandas as pd"
   ]
  },
  {
   "cell_type": "markdown",
   "metadata": {
    "deletable": true,
    "editable": true
   },
   "source": [
    "the data frame"
   ]
  },
  {
   "cell_type": "code",
   "execution_count": 21,
   "metadata": {
    "collapsed": false,
    "deletable": true,
    "editable": true
   },
   "outputs": [
    {
     "data": {
      "text/html": [
       "<div>\n",
       "<style>\n",
       "    .dataframe thead tr:only-child th {\n",
       "        text-align: right;\n",
       "    }\n",
       "\n",
       "    .dataframe thead th {\n",
       "        text-align: left;\n",
       "    }\n",
       "\n",
       "    .dataframe tbody tr th {\n",
       "        vertical-align: top;\n",
       "    }\n",
       "</style>\n",
       "<table border=\"1\" class=\"dataframe\">\n",
       "  <thead>\n",
       "    <tr style=\"text-align: right;\">\n",
       "      <th></th>\n",
       "      <th>Id (primary)</th>\n",
       "      <th>url_id</th>\n",
       "      <th>url</th>\n",
       "      <th>tokenized_source</th>\n",
       "    </tr>\n",
       "  </thead>\n",
       "  <tbody>\n",
       "    <tr>\n",
       "      <th>0</th>\n",
       "      <td>1</td>\n",
       "      <td>1</td>\n",
       "      <td>https://www.247securityinc.com</td>\n",
       "      <td>NaN</td>\n",
       "    </tr>\n",
       "    <tr>\n",
       "      <th>1</th>\n",
       "      <td>2</td>\n",
       "      <td>2</td>\n",
       "      <td>https://www.aaaprecisiontool.com</td>\n",
       "      <td>NaN</td>\n",
       "    </tr>\n",
       "    <tr>\n",
       "      <th>2</th>\n",
       "      <td>3</td>\n",
       "      <td>3</td>\n",
       "      <td>https://www.aasawinc.com</td>\n",
       "      <td>NaN</td>\n",
       "    </tr>\n",
       "    <tr>\n",
       "      <th>3</th>\n",
       "      <td>4</td>\n",
       "      <td>4</td>\n",
       "      <td>https://www.abcspecialtiesinc.net</td>\n",
       "      <td>NaN</td>\n",
       "    </tr>\n",
       "    <tr>\n",
       "      <th>4</th>\n",
       "      <td>5</td>\n",
       "      <td>5</td>\n",
       "      <td>https://www.aberdeentech.com</td>\n",
       "      <td>INSERT MOLDING SPECIALISTS Insert Molding E...</td>\n",
       "    </tr>\n",
       "  </tbody>\n",
       "</table>\n",
       "</div>"
      ],
      "text/plain": [
       "   Id (primary)  url_id                                url  \\\n",
       "0             1       1     https://www.247securityinc.com   \n",
       "1             2       2   https://www.aaaprecisiontool.com   \n",
       "2             3       3           https://www.aasawinc.com   \n",
       "3             4       4  https://www.abcspecialtiesinc.net   \n",
       "4             5       5       https://www.aberdeentech.com   \n",
       "\n",
       "                                    tokenized_source  \n",
       "0                                                NaN  \n",
       "1                                                NaN  \n",
       "2                                                NaN  \n",
       "3                                                NaN  \n",
       "4     INSERT MOLDING SPECIALISTS Insert Molding E...  "
      ]
     },
     "execution_count": 21,
     "metadata": {},
     "output_type": "execute_result"
    }
   ],
   "source": [
    "#Csv after scraping with Scraped_source\n",
    "Path_for_csv_for_classification='C:/Users/trainees/Desktop/AllData/data/Tokenizationtabletest.csv' \n",
    "df=pd.read_csv(Path_for_csv_for_classification)\n",
    "df.tail()"
   ]
  },
  {
   "cell_type": "markdown",
   "metadata": {
    "deletable": true,
    "editable": true
   },
   "source": [
    "initialize the keyword processor       \n",
    "4 different for different arrays"
   ]
  },
  {
   "cell_type": "code",
   "execution_count": 22,
   "metadata": {
    "collapsed": true,
    "deletable": true,
    "editable": true
   },
   "outputs": [],
   "source": [
    "from flashtext.keyword import KeywordProcessor\n",
    "kp0=KeywordProcessor()\n",
    "kp1=KeywordProcessor()\n",
    "kp2=KeywordProcessor()\n",
    "kp3=KeywordProcessor()"
   ]
  },
  {
   "cell_type": "markdown",
   "metadata": {
    "deletable": true,
    "editable": true
   },
   "source": [
    "array1= optimized keywords for category 1\n",
    "array2= optimized keywords for category 2\n",
    "array3= optimized keywords for category 3\n",
    "array0=set of all keywords\n",
    "used list(set()) for deleting duplicates"
   ]
  },
  {
   "cell_type": "code",
   "execution_count": 23,
   "metadata": {
    "collapsed": true,
    "deletable": true,
    "editable": true
   },
   "outputs": [],
   "source": [
    "\n",
    "array1=['Technology', 'Office', 'Education', 'Business', 'Technology', 'Electronics', 'Cell', 'phone', 'Classroom', 'School']\n",
    "array1=list(set(array1))\n",
    "array2=['Consumer', 'Janitorial', 'Sanitation', 'Cleaning', 'Chemicals',  'Floor', 'Care', 'Odor', 'Drain', 'Maintenance', 'Personal', 'Care',  'Restroom', 'Trash', 'Cans',  'Bags', 'Food', 'Restaurant', 'Disposables',  'Dishwashing',  'Espresso',  'Coffee', 'Storage', 'Concession', 'Vending',  'Dish', 'Transport', 'Catering', 'Farm', 'Ranch', 'Hospitality', 'Hotel', 'Pool',  'Tub', 'Filtration', 'Healthcare', 'Medical',  'Nursing', 'Dental',  'Lab', 'Scientific', 'Consumables']\n",
    "array2=list(set(array2))\n",
    "array3=['Industrial', 'Tools',  'Hardware',  'Safety', 'Emergency', 'Hazardous', 'Lockout', 'Tag ',  'PPE', 'Protective',  'Safety',  'Signals', 'Material',  'Pull', 'Lift', 'Drywall', 'Lifts', 'Trucks', 'Packaging', 'Shipping',   'Hardgoods',  'Measure', 'Abrasive', 'Finishing',   'Light', 'Towers', 'Hydraulic',  'Pneumatic', 'Plumbing',  'Fasteners']\n",
    "array3=list(set(array3))\n",
    "array0=array1+array2+array3\n",
    "array0=list(set(array0))\n"
   ]
  },
  {
   "cell_type": "markdown",
   "metadata": {
    "deletable": true,
    "editable": true
   },
   "source": [
    "add keywords to processor"
   ]
  },
  {
   "cell_type": "code",
   "execution_count": 24,
   "metadata": {
    "collapsed": true,
    "deletable": true,
    "editable": true
   },
   "outputs": [],
   "source": [
    "for word in array0:\n",
    "    kp0.add_keyword(word)\n",
    "for word in array1:\n",
    "    kp1.add_keyword(word)\n",
    "for word in array2:\n",
    "    kp2.add_keyword(word)\n",
    "for word in array3:\n",
    "    kp3.add_keyword(word)"
   ]
  },
  {
   "cell_type": "markdown",
   "metadata": {
    "deletable": true,
    "editable": true
   },
   "source": [
    "function to find percentage"
   ]
  },
  {
   "cell_type": "code",
   "execution_count": 25,
   "metadata": {
    "collapsed": true,
    "deletable": true,
    "editable": true
   },
   "outputs": [],
   "source": [
    "def percentage1(dum0,dumx):\n",
    "    try:\n",
    "        ans=float(dumx)/float(dum0)\n",
    "        ans=ans*100\n",
    "    except:\n",
    "        return 0\n",
    "    else:\n",
    "        return ans"
   ]
  },
  {
   "cell_type": "markdown",
   "metadata": {
    "deletable": true,
    "editable": true
   },
   "source": [
    "initialize new columns"
   ]
  },
  {
   "cell_type": "code",
   "execution_count": 26,
   "metadata": {
    "collapsed": false,
    "deletable": true,
    "editable": true
   },
   "outputs": [],
   "source": [
    "df[\"Class_1\"]=0.0\n",
    "df[\"Class_2\"]=0.0\n",
    "df[\"Class_3\"]=0.0\n",
    "df[\"Total_matches\"]=0\n",
    "df[\"Category\"]=''"
   ]
  },
  {
   "cell_type": "markdown",
   "metadata": {
    "deletable": true,
    "editable": true
   },
   "source": [
    "finding class for each row i.e website"
   ]
  },
  {
   "cell_type": "code",
   "execution_count": 27,
   "metadata": {
    "collapsed": false,
    "deletable": true,
    "editable": true
   },
   "outputs": [
    {
     "name": "stderr",
     "output_type": "stream",
     "text": [
      "C:\\Users\\trainees\\AppData\\Local\\Enthought\\Canopy\\edm\\envs\\User\\lib\\site-packages\\ipykernel\\__main__.py:7: SettingWithCopyWarning: \n",
      "A value is trying to be set on a copy of a slice from a DataFrame\n",
      "\n",
      "See the caveats in the documentation: http://pandas.pydata.org/pandas-docs/stable/indexing.html#indexing-view-versus-copy\n",
      "C:\\Users\\trainees\\AppData\\Local\\Enthought\\Canopy\\edm\\envs\\User\\lib\\site-packages\\ipykernel\\__main__.py:8: SettingWithCopyWarning: \n",
      "A value is trying to be set on a copy of a slice from a DataFrame\n",
      "\n",
      "See the caveats in the documentation: http://pandas.pydata.org/pandas-docs/stable/indexing.html#indexing-view-versus-copy\n",
      "C:\\Users\\trainees\\AppData\\Local\\Enthought\\Canopy\\edm\\envs\\User\\lib\\site-packages\\ipykernel\\__main__.py:9: SettingWithCopyWarning: \n",
      "A value is trying to be set on a copy of a slice from a DataFrame\n",
      "\n",
      "See the caveats in the documentation: http://pandas.pydata.org/pandas-docs/stable/indexing.html#indexing-view-versus-copy\n",
      "C:\\Users\\trainees\\AppData\\Local\\Enthought\\Canopy\\edm\\envs\\User\\lib\\site-packages\\ipykernel\\__main__.py:10: SettingWithCopyWarning: \n",
      "A value is trying to be set on a copy of a slice from a DataFrame\n",
      "\n",
      "See the caveats in the documentation: http://pandas.pydata.org/pandas-docs/stable/indexing.html#indexing-view-versus-copy\n",
      "C:\\Users\\trainees\\AppData\\Local\\Enthought\\Canopy\\edm\\envs\\User\\lib\\site-packages\\ipykernel\\__main__.py:12: SettingWithCopyWarning: \n",
      "A value is trying to be set on a copy of a slice from a DataFrame\n",
      "\n",
      "See the caveats in the documentation: http://pandas.pydata.org/pandas-docs/stable/indexing.html#indexing-view-versus-copy\n",
      "C:\\Users\\trainees\\AppData\\Local\\Enthought\\Canopy\\edm\\envs\\User\\lib\\site-packages\\ipykernel\\__main__.py:17: SettingWithCopyWarning: \n",
      "A value is trying to be set on a copy of a slice from a DataFrame\n",
      "\n",
      "See the caveats in the documentation: http://pandas.pydata.org/pandas-docs/stable/indexing.html#indexing-view-versus-copy\n",
      "C:\\Users\\trainees\\AppData\\Local\\Enthought\\Canopy\\edm\\envs\\User\\lib\\site-packages\\ipykernel\\__main__.py:19: SettingWithCopyWarning: \n",
      "A value is trying to be set on a copy of a slice from a DataFrame\n",
      "\n",
      "See the caveats in the documentation: http://pandas.pydata.org/pandas-docs/stable/indexing.html#indexing-view-versus-copy\n"
     ]
    }
   ],
   "source": [
    "for index,row in df.iterrows():\n",
    "    x=str(row[\"tokenized_source\"])\n",
    "    y0=len(kp0.extract_keywords(x))\n",
    "    y1=len(kp1.extract_keywords(x))\n",
    "    y2=len(kp2.extract_keywords(x))\n",
    "    y3=len(kp3.extract_keywords(x))\n",
    "    df[\"Total_matches\"][index]=y0   \n",
    "    df[\"Class_1\"][index]=float(percentage1(y0,y1))\n",
    "    df[\"Class_2\"][index]=float(percentage1(y0,y2))\n",
    "    df[\"Class_3\"][index]=float(percentage1(y0,y3))\n",
    "    if y0==0:\n",
    "        df[\"Category\"][index]='None'\n",
    "    else:\n",
    "        if y1>=y2 and y1>=y3:\n",
    "            df[\"Category\"][index]='Class_1'\n",
    "        elif y2>=y3 and y2>=y1:\n",
    "            df[\"Category\"][index]='Class_2'\n",
    "        elif y3>=y1 and y3>=y2:\n",
    "            df[\"Category\"][index]='Class_3'"
   ]
  },
  {
   "cell_type": "markdown",
   "metadata": {
    "deletable": true,
    "editable": true
   },
   "source": [
    "sending to csv"
   ]
  },
  {
   "cell_type": "code",
   "execution_count": 28,
   "metadata": {
    "collapsed": false,
    "deletable": true,
    "editable": true
   },
   "outputs": [],
   "source": [
    "df.to_csv('C:/Users/trainees/Desktop/AllData/data/Classificationtabletest.csv')"
   ]
  },
  {
   "cell_type": "code",
   "execution_count": null,
   "metadata": {
    "collapsed": true,
    "deletable": true,
    "editable": true
   },
   "outputs": [],
   "source": []
  }
 ],
 "metadata": {
  "kernelspec": {
   "display_name": "Python 3",
   "language": "python",
   "name": "python3"
  },
  "language_info": {
   "codemirror_mode": {
    "name": "ipython",
    "version": 3
   },
   "file_extension": ".py",
   "mimetype": "text/x-python",
   "name": "python",
   "nbconvert_exporter": "python",
   "pygments_lexer": "ipython3",
   "version": "3.5.2"
  }
 },
 "nbformat": 4,
 "nbformat_minor": 2
}
