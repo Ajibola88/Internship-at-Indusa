{
 "cells": [
  {
   "cell_type": "markdown",
   "metadata": {},
   "source": [
    "All imports"
   ]
  },
  {
   "cell_type": "code",
   "execution_count": 1,
   "metadata": {
    "collapsed": true
   },
   "outputs": [],
   "source": [
    "import csv\n",
    "Folder_path='C:/Users/trainees/Desktop/AllData/Data1/'"
   ]
  },
  {
   "cell_type": "markdown",
   "metadata": {},
   "source": [
    "## Header For Scraped Data for Tokenized Source"
   ]
  },
  {
   "cell_type": "code",
   "execution_count": 2,
   "metadata": {
    "collapsed": false
   },
   "outputs": [],
   "source": [
    "header=['Id (primary)','url_id','url','tokenized_source']\n",
    "file_for_Tokenizing_source='Tokenizationtable.csv'\n",
    "with open(Folder_path + file_for_Tokenizing_source, 'w',newline='') as newFile:\n",
    "    newFileWriter = csv.writer(newFile,delimiter=\",\")\n",
    "    newFileWriter.writerow(header)"
   ]
  },
  {
   "cell_type": "markdown",
   "metadata": {},
   "source": [
    "## Header For Scraped Data for Copyright"
   ]
  },
  {
   "cell_type": "code",
   "execution_count": 3,
   "metadata": {
    "collapsed": true
   },
   "outputs": [],
   "source": [
    "header=['Id (primary)','url_id','url','copyright']\n",
    "file_for_copyright='Copyright.csv'\n",
    "with open(Folder_path + file_for_copyright, 'w',newline='') as newFile:\n",
    "    newFileWriter = csv.writer(newFile,delimiter=\",\")\n",
    "    newFileWriter.writerow(header)"
   ]
  },
  {
   "cell_type": "markdown",
   "metadata": {},
   "source": [
    "## Header For Scraped Data for ContactUs Data"
   ]
  },
  {
   "cell_type": "code",
   "execution_count": 4,
   "metadata": {
    "collapsed": true
   },
   "outputs": [],
   "source": [
    "header=['Id (primary)','url_id','url','tokenized_source']\n",
    "file_for_contactus='ContactUs.csv'\n",
    "with open(Folder_path + file_for_contactus, 'w',newline='') as newFile:\n",
    "    newFileWriter = csv.writer(newFile,delimiter=\",\")\n",
    "    newFileWriter.writerow(header)"
   ]
  },
  {
   "cell_type": "markdown",
   "metadata": {},
   "source": [
    "## Header For Scraped Data for AboutUs Data"
   ]
  },
  {
   "cell_type": "code",
   "execution_count": 5,
   "metadata": {
    "collapsed": true
   },
   "outputs": [],
   "source": [
    "header=['Id (primary)','url_id','url','tokenized_source']\n",
    "file_for_aboutus='AboutUs.csv'\n",
    "with open(Folder_path + file_for_aboutus, 'w',newline='') as newFile:\n",
    "    newFileWriter = csv.writer(newFile,delimiter=\",\")\n",
    "    newFileWriter.writerow(header)"
   ]
  },
  {
   "cell_type": "markdown",
   "metadata": {},
   "source": [
    "## Header For Scraped Data for FinalFile"
   ]
  },
  {
   "cell_type": "code",
   "execution_count": 6,
   "metadata": {
    "collapsed": true
   },
   "outputs": [],
   "source": [
    "header=['Id (primary)','url_id','url','Address_1','Address_2','Address_3','Contact_1','Contact_2','Contact_3','Email_1','Email_2','Email_3','FaceBook_link','FaceBook_id','Twitter_link','Twitter_id','Youtube_link','Youtube_id','Linkedin_link1']\n",
    "file_for_finalfile='FinalFile.csv'\n",
    "with open(Folder_path + file_for_finalfile , 'w',newline='') as newFile:\n",
    "    newFileWriter = csv.writer(newFile,delimiter=\"|\")\n",
    "    newFileWriter.writerow(header)"
   ]
  }
 ],
 "metadata": {
  "kernelspec": {
   "display_name": "Python 3",
   "language": "python",
   "name": "python3"
  },
  "language_info": {
   "codemirror_mode": {
    "name": "ipython",
    "version": 3
   },
   "file_extension": ".py",
   "mimetype": "text/x-python",
   "name": "python",
   "nbconvert_exporter": "python",
   "pygments_lexer": "ipython3",
   "version": "3.5.2"
  }
 },
 "nbformat": 4,
 "nbformat_minor": 2
}
