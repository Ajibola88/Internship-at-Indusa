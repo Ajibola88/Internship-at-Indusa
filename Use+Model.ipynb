{
 "cells": [
  {
   "cell_type": "code",
   "execution_count": 1,
   "metadata": {
    "collapsed": true
   },
   "outputs": [],
   "source": [
    "import nltk\n",
    "from nltk.stem.lancaster import LancasterStemmer\n",
    "stemmer = LancasterStemmer()"
   ]
  },
  {
   "cell_type": "code",
   "execution_count": 2,
   "metadata": {
    "collapsed": false
   },
   "outputs": [],
   "source": [
    "folder_path='C:/Users/trainees/Desktop/AllData/data1/'\n",
    "words=[]\n",
    "classes=[]\n",
    "with open(folder_path+'words.txt') as fp:\n",
    "    for line in fp:\n",
    "        line = line[:-1]\n",
    "        words.append(line)\n",
    "        \n",
    "with open(folder_path+'classes.txt') as fp:\n",
    "    for line in fp:\n",
    "        line = line[:-1]\n",
    "        classes.append(line)"
   ]
  },
  {
   "cell_type": "code",
   "execution_count": null,
   "metadata": {
    "collapsed": false
   },
   "outputs": [],
   "source": []
  },
  {
   "cell_type": "code",
   "execution_count": 3,
   "metadata": {
    "collapsed": true
   },
   "outputs": [],
   "source": [
    "# compute sigmoid nonlinearity\n",
    "def sigmoid(x):\n",
    "    output = 1/(1+np.exp(-x))\n",
    "    return output\n",
    "\n",
    "# convert output of sigmoid function to its derivative\n",
    "def sigmoid_output_to_derivative(output):\n",
    "    return output*(1-output)\n",
    " \n",
    "def clean_up_sentence(sentence):\n",
    "    # tokenize the pattern\n",
    "    sentence_words = nltk.word_tokenize(sentence)\n",
    "    # stem each word\n",
    "    sentence_words = [stemmer.stem(word.lower()) for word in sentence_words]\n",
    "    return sentence_words\n",
    "\n",
    "# return bag of words array: 0 or 1 for each word in the bag that exists in the sentence\n",
    "def bow(sentence, words, show_details=False):\n",
    "    # tokenize the pattern\n",
    "    sentence_words = clean_up_sentence(sentence)\n",
    "    # bag of words\n",
    "    bag = [0]*len(words)  \n",
    "    for s in sentence_words:\n",
    "        for i,w in enumerate(words):\n",
    "            if w == s: \n",
    "                bag[i] = 1\n",
    "                if show_details:\n",
    "                    print (\"found in bag: %s\" % w)\n",
    "\n",
    "    return(np.array(bag))\n",
    "\n",
    "def think(sentence, show_details=False):\n",
    "    x = bow(sentence.lower(), words, show_details)\n",
    "    if show_details:\n",
    "        print (\"sentence:\", sentence, \"\\n bow:\", x)\n",
    "    # input layer is our bag of words\n",
    "    l0 = x\n",
    "    # matrix multiplication of input and hidden layer\n",
    "    l1 = sigmoid(np.dot(l0, synapse_0))\n",
    "    # output layer\n",
    "    l2 = sigmoid(np.dot(l1, synapse_1))\n",
    "    return l2"
   ]
  },
  {
   "cell_type": "code",
   "execution_count": 4,
   "metadata": {
    "collapsed": false
   },
   "outputs": [],
   "source": [
    "import json\n",
    "import numpy as np\n",
    "# probability threshold\n",
    "ERROR_THRESHOLD = 0.2\n",
    "# load our calculated synapse values\n",
    "folder_path='C:/Users/trainees/Desktop/AllData/'\n",
    "synapse_file = 'synapses.json' \n",
    "with open(synapse_file) as data_file: \n",
    "    synapse = json.load(data_file) \n",
    "    synapse_0 = np.asarray(synapse['synapse0']) \n",
    "    synapse_1 = np.asarray(synapse['synapse1'])\n",
    "\n",
    "def classify(sentence, show_details=False):\n",
    "    results = think(sentence, show_details)\n",
    "\n",
    "    results = [[i,r] for i,r in enumerate(results) if r>ERROR_THRESHOLD ] \n",
    "    results.sort(key=lambda x: x[1], reverse=True) \n",
    "    return_results =[[classes[r[0]],r[1]] for r in results]\n",
    "    #print (\"\\n classification: %s\" % ( return_results))\n",
    "    return return_results\n"
   ]
  },
  {
   "cell_type": "code",
   "execution_count": 5,
   "metadata": {
    "collapsed": false
   },
   "outputs": [
    {
     "data": {
      "text/plain": [
       "[['Class_3', 0.97663437888614435]]"
      ]
     },
     "execution_count": 5,
     "metadata": {},
     "output_type": "execute_result"
    }
   ],
   "source": [
    "classify(\"  LA36400 Shopping Cart DH361R My Wishlist DE364R DE361R DE362R FVK363R ITAP363 FVK362R AC364RG Sell Your Electrical We Purchase >> Blog BOS14351 FA36100 Disconnect ADS36200HDFP DH362R ITAP362 Log In FVK361R My Account DE365R BOS14353 BOS14352 DE363R Close FA36030 Send Request Circuit Breakers AC365RG PPE Equipment Download Company Brochure >> BOS14355 ITAP361 Switchboards Help KA36200 About Us JavaScript seems to be disabled in your browser You must have JavaScript enabled in your browser to utilize the functionality of this website Help Shopping Cart 0 00 You have no items in your shopping cart My Account My Wishlist My Cart My Quote Log In BD Electrical Worldwide Supply Remanufacturing the past SUSTAINING THE FUTURE Hours and Location Michigan Howell 8 5 EST 800 548 7904 Home Bus Duct Bus Plugs Switchboards Circuit Breakers PPE Equipment Transformers Disconnect Bus Duct Bus Plugs Switchboards Circuit Breakers PPE Equipment Transformers Disconnect Home >> About Us About Us BD Electrical established in 1992 supplies a complete array of used and surplus electrical distribution equipment Today specializing in used and surplus bus duct bus plugs we offer one of the most complete inventories of O E M equipment such as Square D Siemens Westinghouse and General Electric products We also carry several other types of equipment including transformers switchgear circuit breakers panel boards safety disconnects and fuses Our reconditioning process is safety oriented and second to no one It includes performance testing which meets or exceeds O E M standards backed by our two year limited warranty Our goal is simple Customer satisfaction through repeat business We ve earned our reputation with reliable competitively priced products and fast courteous service Give us a call and experience first hand that commitment to quality Browse Bus Duct Bus Plugs Switchboards Circuit Breakers PPE Equipment Transformers Disconnect Navigation Home About Us Contact Us Blog Contact Information Michigan Howell 8 5 EST 800 548 7904 Products ABD408 4 BDP304 BDP306 CP2308G ADS36200HDFP FA36030 FA36100 KA36200 LA36400 AC363RG AC364RG AC365RG BOS14351 BOS14352 BOS14353 BOS14354 BOS14355 DE361R DE362R DE363R DE364R DE365R DH361R DH362R DH363R FVK361R FVK362R FVK363R FVK364R FVK365RT ITAP361 ITAP362 ITAP363 (c) 2013 BD Electrical All rights reserved video title video content BD Electrical established in 1992 supplies a complete array of used refurbished and surplus electrical distribution equipment Call 800 548 7904 Used Busway Siemens ITE Breakers Square D Bus Plugs Panel Boards Transformers bd electrical bus plugs bus duct used surplus equipment westinghouse ge electric circuit breaker switchgear ite panel boards bd electrical michigan bd electrical worldwide supply electrical supply bd electrical howell\")"
   ]
  },
  {
   "cell_type": "code",
   "execution_count": null,
   "metadata": {
    "collapsed": true
   },
   "outputs": [],
   "source": []
  },
  {
   "cell_type": "code",
   "execution_count": null,
   "metadata": {
    "collapsed": true
   },
   "outputs": [],
   "source": []
  }
 ],
 "metadata": {
  "kernelspec": {
   "display_name": "Python 3",
   "language": "python",
   "name": "python3"
  },
  "language_info": {
   "codemirror_mode": {
    "name": "ipython",
    "version": 3
   },
   "file_extension": ".py",
   "mimetype": "text/x-python",
   "name": "python",
   "nbconvert_exporter": "python",
   "pygments_lexer": "ipython3",
   "version": "3.5.2"
  }
 },
 "nbformat": 4,
 "nbformat_minor": 2
}
